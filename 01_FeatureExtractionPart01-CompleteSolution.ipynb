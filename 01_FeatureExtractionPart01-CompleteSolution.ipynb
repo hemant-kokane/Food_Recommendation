{
 "cells": [
  {
   "cell_type": "markdown",
   "id": "0b944db5",
   "metadata": {},
   "source": [
    "# Import SparkSession"
   ]
  },
  {
   "cell_type": "code",
   "execution_count": 1,
   "id": "6fb8c1cd",
   "metadata": {},
   "outputs": [
    {
     "data": {
      "application/vnd.jupyter.widget-view+json": {
       "model_id": "987a05fb17c34c42adbd567280d57b92",
       "version_major": 2,
       "version_minor": 0
      },
      "text/plain": [
       "VBox()"
      ]
     },
     "metadata": {},
     "output_type": "display_data"
    },
    {
     "name": "stdout",
     "output_type": "stream",
     "text": [
      "Starting Spark application\n"
     ]
    },
    {
     "data": {
      "text/html": [
       "<table>\n",
       "<tr><th>ID</th><th>YARN Application ID</th><th>Kind</th><th>State</th><th>Spark UI</th><th>Driver log</th><th>Current session?</th></tr><tr><td>7</td><td>application_1673345454184_0008</td><td>pyspark</td><td>idle</td><td><a target=\"_blank\" href=\"http://ip-172-31-44-62.ec2.internal:20888/proxy/application_1673345454184_0008/\">Link</a></td><td><a target=\"_blank\" href=\"http://ip-172-31-44-110.ec2.internal:8042/node/containerlogs/container_1673345454184_0008_01_000001/livy\">Link</a></td><td>✔</td></tr></table>"
      ],
      "text/plain": [
       "<IPython.core.display.HTML object>"
      ]
     },
     "metadata": {},
     "output_type": "display_data"
    },
    {
     "data": {
      "application/vnd.jupyter.widget-view+json": {
       "model_id": "",
       "version_major": 2,
       "version_minor": 0
      },
      "text/plain": [
       "FloatProgress(value=0.0, bar_style='info', description='Progress:', layout=Layout(height='25px', width='50%'),…"
      ]
     },
     "metadata": {},
     "output_type": "display_data"
    },
    {
     "name": "stdout",
     "output_type": "stream",
     "text": [
      "SparkSession available as 'spark'.\n"
     ]
    },
    {
     "data": {
      "application/vnd.jupyter.widget-view+json": {
       "model_id": "",
       "version_major": 2,
       "version_minor": 0
      },
      "text/plain": [
       "FloatProgress(value=0.0, bar_style='info', description='Progress:', layout=Layout(height='25px', width='50%'),…"
      ]
     },
     "metadata": {},
     "output_type": "display_data"
    }
   ],
   "source": [
    "import pyspark"
   ]
  },
  {
   "cell_type": "code",
   "execution_count": 2,
   "id": "ed35b2eb",
   "metadata": {},
   "outputs": [
    {
     "data": {
      "application/vnd.jupyter.widget-view+json": {
       "model_id": "cd5e07d0dd444c28843b263a20eafef3",
       "version_major": 2,
       "version_minor": 0
      },
      "text/plain": [
       "VBox()"
      ]
     },
     "metadata": {},
     "output_type": "display_data"
    },
    {
     "data": {
      "application/vnd.jupyter.widget-view+json": {
       "model_id": "",
       "version_major": 2,
       "version_minor": 0
      },
      "text/plain": [
       "FloatProgress(value=0.0, bar_style='info', description='Progress:', layout=Layout(height='25px', width='50%'),…"
      ]
     },
     "metadata": {},
     "output_type": "display_data"
    }
   ],
   "source": [
    "from pyspark.sql import SparkSession"
   ]
  },
  {
   "cell_type": "code",
   "execution_count": 3,
   "id": "98f12c7f",
   "metadata": {},
   "outputs": [
    {
     "data": {
      "application/vnd.jupyter.widget-view+json": {
       "model_id": "38bb83c7cf4149fa943279d983b57462",
       "version_major": 2,
       "version_minor": 0
      },
      "text/plain": [
       "VBox()"
      ]
     },
     "metadata": {},
     "output_type": "display_data"
    },
    {
     "data": {
      "application/vnd.jupyter.widget-view+json": {
       "model_id": "",
       "version_major": 2,
       "version_minor": 0
      },
      "text/plain": [
       "FloatProgress(value=0.0, bar_style='info', description='Progress:', layout=Layout(height='25px', width='50%'),…"
      ]
     },
     "metadata": {},
     "output_type": "display_data"
    }
   ],
   "source": [
    "spark = SparkSession.builder.appName(\"FoodRecommendation\").getOrCreate()"
   ]
  },
  {
   "cell_type": "code",
   "execution_count": 4,
   "id": "34574d4c",
   "metadata": {},
   "outputs": [
    {
     "data": {
      "application/vnd.jupyter.widget-view+json": {
       "model_id": "7341fb600118426aaa6b5c50133121fe",
       "version_major": 2,
       "version_minor": 0
      },
      "text/plain": [
       "VBox()"
      ]
     },
     "metadata": {},
     "output_type": "display_data"
    },
    {
     "data": {
      "application/vnd.jupyter.widget-view+json": {
       "model_id": "",
       "version_major": 2,
       "version_minor": 0
      },
      "text/plain": [
       "FloatProgress(value=0.0, bar_style='info', description='Progress:', layout=Layout(height='25px', width='50%'),…"
      ]
     },
     "metadata": {},
     "output_type": "display_data"
    },
    {
     "name": "stdout",
     "output_type": "stream",
     "text": [
      "<pyspark.sql.session.SparkSession object at 0x7f0ce5118c50>"
     ]
    }
   ],
   "source": [
    "spark"
   ]
  },
  {
   "cell_type": "markdown",
   "id": "92194695",
   "metadata": {},
   "source": [
    "# Task 01: Read the data"
   ]
  },
  {
   "cell_type": "code",
   "execution_count": 5,
   "id": "ed2d7174",
   "metadata": {},
   "outputs": [
    {
     "data": {
      "application/vnd.jupyter.widget-view+json": {
       "model_id": "03167faa970348a697fabdba4c5e4352",
       "version_major": 2,
       "version_minor": 0
      },
      "text/plain": [
       "VBox()"
      ]
     },
     "metadata": {},
     "output_type": "display_data"
    },
    {
     "data": {
      "application/vnd.jupyter.widget-view+json": {
       "model_id": "",
       "version_major": 2,
       "version_minor": 0
      },
      "text/plain": [
       "FloatProgress(value=0.0, bar_style='info', description='Progress:', layout=Layout(height='25px', width='50%'),…"
      ]
     },
     "metadata": {},
     "output_type": "display_data"
    },
    {
     "name": "stdout",
     "output_type": "stream",
     "text": [
      "+--------------------+------+-------+--------------+-------------------+--------------------+--------------------+-------+--------------------+--------------------+--------------------+-------------+\n",
      "|                name|    id|minutes|contributor_id|          submitted|                tags|           nutrition|n_steps|               steps|         description|         ingredients|n_ingredients|\n",
      "+--------------------+------+-------+--------------+-------------------+--------------------+--------------------+-------+--------------------+--------------------+--------------------+-------------+\n",
      "|arriba   baked wi...|137739|     55|         47892|2005-09-16 00:00:00|['60-minutes-or-l...|[51.5, 0.0, 13.0,...|     11|['make a choice a...|autumn is my favo...|['winter squash',...|            7|\n",
      "|a bit different  ...| 31490|     30|         26278|2002-06-17 00:00:00|['30-minutes-or-l...|[173.4, 18.0, 0.0...|      9|['preheat oven to...|this recipe calls...|['prepared pizza ...|            6|\n",
      "|all in the kitche...|112140|    130|        196586|2005-02-25 00:00:00|['time-to-make', ...|[269.8, 22.0, 32....|      6|['brown ground be...|this modified ver...|['ground beef', '...|           13|\n",
      "|  alouette  potatoes| 59389|     45|         68585|2003-04-14 00:00:00|['60-minutes-or-l...|[368.1, 17.0, 10....|     11|['place potatoes ...|this is a super e...|['spreadable chee...|           11|\n",
      "|amish  tomato ket...| 44061|    190|         41706|2002-10-25 00:00:00|['weeknight', 'ti...|[352.9, 1.0, 337....|      5|['mix all ingredi...|my dh's amish mot...|['tomato juice', ...|            8|\n",
      "+--------------------+------+-------+--------------+-------------------+--------------------+--------------------+-------+--------------------+--------------------+--------------------+-------------+\n",
      "only showing top 5 rows"
     ]
    }
   ],
   "source": [
    "raw_recipes_df = spark.read.csv(\"s3a://raw-recipes-clean-upgrad/RAW_recipes_cleaned.csv\", header=True, inferSchema=True)\n",
    "raw_recipes_df.show(5)"
   ]
  },
  {
   "cell_type": "code",
   "execution_count": 6,
   "id": "a899d0ba",
   "metadata": {},
   "outputs": [
    {
     "data": {
      "application/vnd.jupyter.widget-view+json": {
       "model_id": "fa1356aec4e244d9bce6cbc76118f5aa",
       "version_major": 2,
       "version_minor": 0
      },
      "text/plain": [
       "VBox()"
      ]
     },
     "metadata": {},
     "output_type": "display_data"
    },
    {
     "data": {
      "application/vnd.jupyter.widget-view+json": {
       "model_id": "",
       "version_major": 2,
       "version_minor": 0
      },
      "text/plain": [
       "FloatProgress(value=0.0, bar_style='info', description='Progress:', layout=Layout(height='25px', width='50%'),…"
      ]
     },
     "metadata": {},
     "output_type": "display_data"
    },
    {
     "name": "stdout",
     "output_type": "stream",
     "text": [
      "root\n",
      " |-- name: string (nullable = true)\n",
      " |-- id: integer (nullable = true)\n",
      " |-- minutes: integer (nullable = true)\n",
      " |-- contributor_id: integer (nullable = true)\n",
      " |-- submitted: timestamp (nullable = true)\n",
      " |-- tags: string (nullable = true)\n",
      " |-- nutrition: string (nullable = true)\n",
      " |-- n_steps: integer (nullable = true)\n",
      " |-- steps: string (nullable = true)\n",
      " |-- description: string (nullable = true)\n",
      " |-- ingredients: string (nullable = true)\n",
      " |-- n_ingredients: integer (nullable = true)"
     ]
    }
   ],
   "source": [
    "# Print schema of raw_recipes_df\n",
    "raw_recipes_df.printSchema()"
   ]
  },
  {
   "cell_type": "code",
   "execution_count": 7,
   "id": "4c3cb953",
   "metadata": {},
   "outputs": [
    {
     "data": {
      "application/vnd.jupyter.widget-view+json": {
       "model_id": "173746c1a6f74f55b3ed3ef8a165c43d",
       "version_major": 2,
       "version_minor": 0
      },
      "text/plain": [
       "VBox()"
      ]
     },
     "metadata": {},
     "output_type": "display_data"
    },
    {
     "data": {
      "application/vnd.jupyter.widget-view+json": {
       "model_id": "",
       "version_major": 2,
       "version_minor": 0
      },
      "text/plain": [
       "FloatProgress(value=0.0, bar_style='info', description='Progress:', layout=Layout(height='25px', width='50%'),…"
      ]
     },
     "metadata": {},
     "output_type": "display_data"
    },
    {
     "name": "stdout",
     "output_type": "stream",
     "text": [
      "+-------+--------------------+------------------+-----------------+-------------------+--------------------+--------------------+-----------------+--------------------+--------------------+--------------------+-----------------+\n",
      "|summary|                name|                id|          minutes|     contributor_id|                tags|           nutrition|          n_steps|               steps|         description|         ingredients|    n_ingredients|\n",
      "+-------+--------------------+------------------+-----------------+-------------------+--------------------+--------------------+-----------------+--------------------+--------------------+--------------------+-----------------+\n",
      "|  count|              231636|            231637|           231637|             231637|              231637|              231637|           231637|              231637|              231637|              231637|           231637|\n",
      "|   mean|                null|222014.70898431598|9398.546009488984|    5534885.1138376|                null|                null|  9.7654994668382|                null|              2013.0|                null|9.051153313158087|\n",
      "| stddev|                null| 141206.6356257964|4461963.038860456|9.979140821390145E7|                null|                null|5.995128012400966|                null|                 NaN|                null| 3.73479573536428|\n",
      "|    min|0 carb   0 cal gu...|                38|                0|                 27|                ['']|[0.0, 0.0, 0.0, 1...|                0|[' however , cg s...|                    |['1% fat buttermi...|                1|\n",
      "|    max|zydeco ya ya devi...|            537716|       2147483647|         2002289981|['weeknight', 'ti...|[999.9, 106.0, 53...|              145|[zaar won't let m...|”homemade lasagna...|[zatarain's jamba...|               43|\n",
      "+-------+--------------------+------------------+-----------------+-------------------+--------------------+--------------------+-----------------+--------------------+--------------------+--------------------+-----------------+"
     ]
    }
   ],
   "source": [
    "# Describe raw_recipes_df data\n",
    "raw_recipes_df.describe().show()"
   ]
  },
  {
   "cell_type": "code",
   "execution_count": 8,
   "id": "49debc1e",
   "metadata": {},
   "outputs": [
    {
     "data": {
      "application/vnd.jupyter.widget-view+json": {
       "model_id": "804bd414c4ea442689688fb570195190",
       "version_major": 2,
       "version_minor": 0
      },
      "text/plain": [
       "VBox()"
      ]
     },
     "metadata": {},
     "output_type": "display_data"
    },
    {
     "data": {
      "application/vnd.jupyter.widget-view+json": {
       "model_id": "",
       "version_major": 2,
       "version_minor": 0
      },
      "text/plain": [
       "FloatProgress(value=0.0, bar_style='info', description='Progress:', layout=Layout(height='25px', width='50%'),…"
      ]
     },
     "metadata": {},
     "output_type": "display_data"
    },
    {
     "name": "stdout",
     "output_type": "stream",
     "text": [
      "(231637, 12)"
     ]
    }
   ],
   "source": [
    "# Count of rows and columns in raw_recipes_df\n",
    "raw_recipes_df.count(), len(raw_recipes_df.columns)"
   ]
  },
  {
   "cell_type": "code",
   "execution_count": 9,
   "id": "20fa3f56",
   "metadata": {},
   "outputs": [
    {
     "data": {
      "application/vnd.jupyter.widget-view+json": {
       "model_id": "dd255dc84468454a8ffb8a9a891d7de2",
       "version_major": 2,
       "version_minor": 0
      },
      "text/plain": [
       "VBox()"
      ]
     },
     "metadata": {},
     "output_type": "display_data"
    },
    {
     "data": {
      "application/vnd.jupyter.widget-view+json": {
       "model_id": "",
       "version_major": 2,
       "version_minor": 0
      },
      "text/plain": [
       "FloatProgress(value=0.0, bar_style='info', description='Progress:', layout=Layout(height='25px', width='50%'),…"
      ]
     },
     "metadata": {},
     "output_type": "display_data"
    }
   ],
   "source": [
    "# Import required libraries\n",
    "from datetime import datetime\n",
    "from pyspark.sql.functions import col, udf\n",
    "from pyspark.sql.types import DoubleType, IntegerType, DateType, StructType, FloatType, StringType, ArrayType\n"
   ]
  },
  {
   "cell_type": "code",
   "execution_count": 10,
   "id": "50feb4cd",
   "metadata": {},
   "outputs": [
    {
     "data": {
      "application/vnd.jupyter.widget-view+json": {
       "model_id": "94e3c8b5e33d43b7b32d183efbc93f1b",
       "version_major": 2,
       "version_minor": 0
      },
      "text/plain": [
       "VBox()"
      ]
     },
     "metadata": {},
     "output_type": "display_data"
    },
    {
     "data": {
      "application/vnd.jupyter.widget-view+json": {
       "model_id": "",
       "version_major": 2,
       "version_minor": 0
      },
      "text/plain": [
       "FloatProgress(value=0.0, bar_style='info', description='Progress:', layout=Layout(height='25px', width='50%'),…"
      ]
     },
     "metadata": {},
     "output_type": "display_data"
    }
   ],
   "source": [
    "assert raw_recipes_df.count() == 231637, \"There is a mistake in reading the data.\"\n",
    "assert len(raw_recipes_df.columns) == 12, \"There is a mistake in reading the data.\"\n",
    "assert raw_recipes_df.schema[\"minutes\"].dataType == IntegerType(), \"The data types have not been read correctly.\"\n",
    "assert raw_recipes_df.schema[\"tags\"].dataType == StringType(), \"The data types have not been read correctly.\"\n",
    "assert raw_recipes_df.schema[\"n_ingredients\"].dataType == IntegerType(), \"The data types have not been read correctly.\""
   ]
  },
  {
   "cell_type": "markdown",
   "id": "e2fa743d",
   "metadata": {},
   "source": [
    "# Task 02: Extract individual features from the nutrition column."
   ]
  },
  {
   "cell_type": "code",
   "execution_count": 11,
   "id": "9ce276f0",
   "metadata": {},
   "outputs": [
    {
     "data": {
      "application/vnd.jupyter.widget-view+json": {
       "model_id": "84fd8ec03fe9429994388e10464cbbe4",
       "version_major": 2,
       "version_minor": 0
      },
      "text/plain": [
       "VBox()"
      ]
     },
     "metadata": {},
     "output_type": "display_data"
    },
    {
     "data": {
      "application/vnd.jupyter.widget-view+json": {
       "model_id": "",
       "version_major": 2,
       "version_minor": 0
      },
      "text/plain": [
       "FloatProgress(value=0.0, bar_style='info', description='Progress:', layout=Layout(height='25px', width='50%'),…"
      ]
     },
     "metadata": {},
     "output_type": "display_data"
    }
   ],
   "source": [
    "# Create list of nutrition-features\n",
    "nutrition_column_names = ['calories',\n",
    "                          'total_fat_PDV',\n",
    "                          'sugar_PDV',\n",
    "                          'sodium_PDV',\n",
    "                          'protein_PDV',\n",
    "                          'saturated_fat_PDV',\n",
    "                          'carbohydrates_PDV']"
   ]
  },
  {
   "cell_type": "code",
   "execution_count": 12,
   "id": "c721cacc",
   "metadata": {},
   "outputs": [
    {
     "data": {
      "application/vnd.jupyter.widget-view+json": {
       "model_id": "54bd22df56c14c119a0898071d766e27",
       "version_major": 2,
       "version_minor": 0
      },
      "text/plain": [
       "VBox()"
      ]
     },
     "metadata": {},
     "output_type": "display_data"
    },
    {
     "data": {
      "application/vnd.jupyter.widget-view+json": {
       "model_id": "",
       "version_major": 2,
       "version_minor": 0
      },
      "text/plain": [
       "FloatProgress(value=0.0, bar_style='info', description='Progress:', layout=Layout(height='25px', width='50%'),…"
      ]
     },
     "metadata": {},
     "output_type": "display_data"
    }
   ],
   "source": [
    "# Replacing squre of nutrition column\n",
    "from pyspark.sql import functions as F\n",
    "raw_recipes_df = raw_recipes_df.withColumn(\"nutrition\", F.regexp_replace(F.regexp_replace(\"nutrition\", \"\\\\[\", \"\"), \"\\\\]\",\"\"))"
   ]
  },
  {
   "cell_type": "code",
   "execution_count": 13,
   "id": "35b8e3db",
   "metadata": {},
   "outputs": [
    {
     "data": {
      "application/vnd.jupyter.widget-view+json": {
       "model_id": "7d5e0084f5d645499460b2f7e79d47ed",
       "version_major": 2,
       "version_minor": 0
      },
      "text/plain": [
       "VBox()"
      ]
     },
     "metadata": {},
     "output_type": "display_data"
    },
    {
     "data": {
      "application/vnd.jupyter.widget-view+json": {
       "model_id": "",
       "version_major": 2,
       "version_minor": 0
      },
      "text/plain": [
       "FloatProgress(value=0.0, bar_style='info', description='Progress:', layout=Layout(height='25px', width='50%'),…"
      ]
     },
     "metadata": {},
     "output_type": "display_data"
    },
    {
     "name": "stdout",
     "output_type": "stream",
     "text": [
      "+--------------------+------+-------+--------------+-------------------+--------------------+--------------------+-------+--------------------+--------------------+--------------------+-------------+\n",
      "|                name|    id|minutes|contributor_id|          submitted|                tags|           nutrition|n_steps|               steps|         description|         ingredients|n_ingredients|\n",
      "+--------------------+------+-------+--------------+-------------------+--------------------+--------------------+-------+--------------------+--------------------+--------------------+-------------+\n",
      "|arriba   baked wi...|137739|     55|         47892|2005-09-16 00:00:00|['60-minutes-or-l...|51.5, 0.0, 13.0, ...|     11|['make a choice a...|autumn is my favo...|['winter squash',...|            7|\n",
      "+--------------------+------+-------+--------------+-------------------+--------------------+--------------------+-------+--------------------+--------------------+--------------------+-------------+\n",
      "only showing top 1 row"
     ]
    }
   ],
   "source": [
    "raw_recipes_df.show(1)"
   ]
  },
  {
   "cell_type": "code",
   "execution_count": 14,
   "id": "f853a1df",
   "metadata": {},
   "outputs": [
    {
     "data": {
      "application/vnd.jupyter.widget-view+json": {
       "model_id": "a4f1625fd4624d82814e7dd97aea6c35",
       "version_major": 2,
       "version_minor": 0
      },
      "text/plain": [
       "VBox()"
      ]
     },
     "metadata": {},
     "output_type": "display_data"
    },
    {
     "data": {
      "application/vnd.jupyter.widget-view+json": {
       "model_id": "",
       "version_major": 2,
       "version_minor": 0
      },
      "text/plain": [
       "FloatProgress(value=0.0, bar_style='info', description='Progress:', layout=Layout(height='25px', width='50%'),…"
      ]
     },
     "metadata": {},
     "output_type": "display_data"
    }
   ],
   "source": [
    "# Extracting nutrition values into new columns with splitting \n",
    "for col_index, col_name in enumerate(nutrition_column_names):\n",
    "    raw_recipes_df = raw_recipes_df.withColumn(col_name, F.split(raw_recipes_df[\"nutrition\"], \",\").getItem(col_index))"
   ]
  },
  {
   "cell_type": "code",
   "execution_count": 15,
   "id": "cb39a462",
   "metadata": {},
   "outputs": [
    {
     "data": {
      "application/vnd.jupyter.widget-view+json": {
       "model_id": "dda9cc5e027b408ab4c48b594dbad0f0",
       "version_major": 2,
       "version_minor": 0
      },
      "text/plain": [
       "VBox()"
      ]
     },
     "metadata": {},
     "output_type": "display_data"
    },
    {
     "data": {
      "application/vnd.jupyter.widget-view+json": {
       "model_id": "",
       "version_major": 2,
       "version_minor": 0
      },
      "text/plain": [
       "FloatProgress(value=0.0, bar_style='info', description='Progress:', layout=Layout(height='25px', width='50%'),…"
      ]
     },
     "metadata": {},
     "output_type": "display_data"
    },
    {
     "name": "stdout",
     "output_type": "stream",
     "text": [
      "StringType"
     ]
    }
   ],
   "source": [
    "# Data type after splitting\n",
    "raw_recipes_df.schema[\"nutrition\"].dataType"
   ]
  },
  {
   "cell_type": "code",
   "execution_count": 16,
   "id": "fb50bb16",
   "metadata": {},
   "outputs": [
    {
     "data": {
      "application/vnd.jupyter.widget-view+json": {
       "model_id": "536f04bb80fc4eb78ba4999679fd6c94",
       "version_major": 2,
       "version_minor": 0
      },
      "text/plain": [
       "VBox()"
      ]
     },
     "metadata": {},
     "output_type": "display_data"
    },
    {
     "data": {
      "application/vnd.jupyter.widget-view+json": {
       "model_id": "",
       "version_major": 2,
       "version_minor": 0
      },
      "text/plain": [
       "FloatProgress(value=0.0, bar_style='info', description='Progress:', layout=Layout(height='25px', width='50%'),…"
      ]
     },
     "metadata": {},
     "output_type": "display_data"
    },
    {
     "name": "stdout",
     "output_type": "stream",
     "text": [
      "+--------------------+------+-------+--------------+-------------------+--------------------+--------------------+-------+--------------------+--------------------+--------------------+-------------+--------+-------------+---------+----------+-----------+-----------------+-----------------+\n",
      "|                name|    id|minutes|contributor_id|          submitted|                tags|           nutrition|n_steps|               steps|         description|         ingredients|n_ingredients|calories|total_fat_PDV|sugar_PDV|sodium_PDV|protein_PDV|saturated_fat_PDV|carbohydrates_PDV|\n",
      "+--------------------+------+-------+--------------+-------------------+--------------------+--------------------+-------+--------------------+--------------------+--------------------+-------------+--------+-------------+---------+----------+-----------+-----------------+-----------------+\n",
      "|arriba   baked wi...|137739|     55|         47892|2005-09-16 00:00:00|['60-minutes-or-l...|51.5, 0.0, 13.0, ...|     11|['make a choice a...|autumn is my favo...|['winter squash',...|            7|    51.5|          0.0|     13.0|       0.0|        2.0|              0.0|              4.0|\n",
      "|a bit different  ...| 31490|     30|         26278|2002-06-17 00:00:00|['30-minutes-or-l...|173.4, 18.0, 0.0,...|      9|['preheat oven to...|this recipe calls...|['prepared pizza ...|            6|   173.4|         18.0|      0.0|      17.0|       22.0|             35.0|              1.0|\n",
      "|all in the kitche...|112140|    130|        196586|2005-02-25 00:00:00|['time-to-make', ...|269.8, 22.0, 32.0...|      6|['brown ground be...|this modified ver...|['ground beef', '...|           13|   269.8|         22.0|     32.0|      48.0|       39.0|             27.0|              5.0|\n",
      "|  alouette  potatoes| 59389|     45|         68585|2003-04-14 00:00:00|['60-minutes-or-l...|368.1, 17.0, 10.0...|     11|['place potatoes ...|this is a super e...|['spreadable chee...|           11|   368.1|         17.0|     10.0|       2.0|       14.0|              8.0|             20.0|\n",
      "|amish  tomato ket...| 44061|    190|         41706|2002-10-25 00:00:00|['weeknight', 'ti...|352.9, 1.0, 337.0...|      5|['mix all ingredi...|my dh's amish mot...|['tomato juice', ...|            8|   352.9|          1.0|    337.0|      23.0|        3.0|              0.0|             28.0|\n",
      "+--------------------+------+-------+--------------+-------------------+--------------------+--------------------+-------+--------------------+--------------------+--------------------+-------------+--------+-------------+---------+----------+-----------+-----------------+-----------------+\n",
      "only showing top 5 rows"
     ]
    }
   ],
   "source": [
    "# raw_recipes_df data after extracting featurs\n",
    "raw_recipes_df.show(5)"
   ]
  },
  {
   "cell_type": "code",
   "execution_count": 17,
   "id": "af652d16",
   "metadata": {},
   "outputs": [
    {
     "data": {
      "application/vnd.jupyter.widget-view+json": {
       "model_id": "615186457d43427fb3c172af8bc7679f",
       "version_major": 2,
       "version_minor": 0
      },
      "text/plain": [
       "VBox()"
      ]
     },
     "metadata": {},
     "output_type": "display_data"
    },
    {
     "data": {
      "application/vnd.jupyter.widget-view+json": {
       "model_id": "",
       "version_major": 2,
       "version_minor": 0
      },
      "text/plain": [
       "FloatProgress(value=0.0, bar_style='info', description='Progress:', layout=Layout(height='25px', width='50%'),…"
      ]
     },
     "metadata": {},
     "output_type": "display_data"
    }
   ],
   "source": [
    "# casting to float\n",
    "for col_index, col_name in enumerate(nutrition_column_names):\n",
    "    raw_recipes_df = raw_recipes_df.withColumn(col_name, col(col_name).cast(FloatType()))"
   ]
  },
  {
   "cell_type": "code",
   "execution_count": 18,
   "id": "93c59021",
   "metadata": {},
   "outputs": [
    {
     "data": {
      "application/vnd.jupyter.widget-view+json": {
       "model_id": "22fc2bd246c844628b8b4dfb3f924e8d",
       "version_major": 2,
       "version_minor": 0
      },
      "text/plain": [
       "VBox()"
      ]
     },
     "metadata": {},
     "output_type": "display_data"
    },
    {
     "data": {
      "application/vnd.jupyter.widget-view+json": {
       "model_id": "",
       "version_major": 2,
       "version_minor": 0
      },
      "text/plain": [
       "FloatProgress(value=0.0, bar_style='info', description='Progress:', layout=Layout(height='25px', width='50%'),…"
      ]
     },
     "metadata": {},
     "output_type": "display_data"
    }
   ],
   "source": [
    "assert raw_recipes_df.schema[\"carbohydrates_PDV\"].dataType == FloatType(), \"Recheck your typecasting\"\n",
    "assert raw_recipes_df.collect()[123432][14] == 62.0, \"The columns have not been split correctly.\"\n",
    "assert raw_recipes_df.collect()[10000][12] == 60.400001525878906, \"The columns have not been split correctly.\""
   ]
  },
  {
   "cell_type": "markdown",
   "id": "645c89a4",
   "metadata": {},
   "source": [
    "# Task 03: Standardize the nutrition values "
   ]
  },
  {
   "cell_type": "code",
   "execution_count": 19,
   "id": "193bc320",
   "metadata": {},
   "outputs": [
    {
     "data": {
      "application/vnd.jupyter.widget-view+json": {
       "model_id": "85fd389960924086ae3be5da5f87e173",
       "version_major": 2,
       "version_minor": 0
      },
      "text/plain": [
       "VBox()"
      ]
     },
     "metadata": {},
     "output_type": "display_data"
    },
    {
     "data": {
      "application/vnd.jupyter.widget-view+json": {
       "model_id": "",
       "version_major": 2,
       "version_minor": 0
      },
      "text/plain": [
       "FloatProgress(value=0.0, bar_style='info', description='Progress:', layout=Layout(height='25px', width='50%'),…"
      ]
     },
     "metadata": {},
     "output_type": "display_data"
    }
   ],
   "source": [
    "# New list without calories \n",
    "nutrition_column_names = ['total_fat_PDV',\n",
    "                          'sugar_PDV',\n",
    "                          'sodium_PDV',\n",
    "                          'protein_PDV',\n",
    "                          'saturated_fat_PDV',\n",
    "                          'carbohydrates_PDV']"
   ]
  },
  {
   "cell_type": "code",
   "execution_count": 20,
   "id": "803eddec",
   "metadata": {},
   "outputs": [
    {
     "data": {
      "application/vnd.jupyter.widget-view+json": {
       "model_id": "3cb273c432324e7ea2a9a84a34bd30af",
       "version_major": 2,
       "version_minor": 0
      },
      "text/plain": [
       "VBox()"
      ]
     },
     "metadata": {},
     "output_type": "display_data"
    },
    {
     "data": {
      "application/vnd.jupyter.widget-view+json": {
       "model_id": "",
       "version_major": 2,
       "version_minor": 0
      },
      "text/plain": [
       "FloatProgress(value=0.0, bar_style='info', description='Progress:', layout=Layout(height='25px', width='50%'),…"
      ]
     },
     "metadata": {},
     "output_type": "display_data"
    },
    {
     "name": "stdout",
     "output_type": "stream",
     "text": [
      "'total_fat_PDV'"
     ]
    }
   ],
   "source": [
    "nutrition_column_names[0]"
   ]
  },
  {
   "cell_type": "code",
   "execution_count": 21,
   "id": "07687927",
   "metadata": {},
   "outputs": [
    {
     "data": {
      "application/vnd.jupyter.widget-view+json": {
       "model_id": "0c881bb4f3c740b39db16555d686cb9c",
       "version_major": 2,
       "version_minor": 0
      },
      "text/plain": [
       "VBox()"
      ]
     },
     "metadata": {},
     "output_type": "display_data"
    },
    {
     "data": {
      "application/vnd.jupyter.widget-view+json": {
       "model_id": "",
       "version_major": 2,
       "version_minor": 0
      },
      "text/plain": [
       "FloatProgress(value=0.0, bar_style='info', description='Progress:', layout=Layout(height='25px', width='50%'),…"
      ]
     },
     "metadata": {},
     "output_type": "display_data"
    }
   ],
   "source": [
    "# Creating nutrition-per-100 calorie columns list\n",
    "nutrition_column = ['total_fat_per_100_cal',\n",
    "                          'sugar_per_100_cal',\n",
    "                          'sodium_per_100_cal',\n",
    "                          'protein_per_100_cal',\n",
    "                          'saturated_fat_per_100_cal',\n",
    "                          'carbohydrates_per_100_cal']"
   ]
  },
  {
   "cell_type": "code",
   "execution_count": 22,
   "id": "12c9c25a",
   "metadata": {},
   "outputs": [
    {
     "data": {
      "application/vnd.jupyter.widget-view+json": {
       "model_id": "b55b8f36fe694218b66a5d029e107f39",
       "version_major": 2,
       "version_minor": 0
      },
      "text/plain": [
       "VBox()"
      ]
     },
     "metadata": {},
     "output_type": "display_data"
    },
    {
     "data": {
      "application/vnd.jupyter.widget-view+json": {
       "model_id": "",
       "version_major": 2,
       "version_minor": 0
      },
      "text/plain": [
       "FloatProgress(value=0.0, bar_style='info', description='Progress:', layout=Layout(height='25px', width='50%'),…"
      ]
     },
     "metadata": {},
     "output_type": "display_data"
    }
   ],
   "source": [
    "# Standardize the nutrition values\n",
    "for col_index, col_name in enumerate(nutrition_column):\n",
    "    raw_recipes_df = raw_recipes_df.withColumn(col_name,(raw_recipes_df[nutrition_column_names[col_index]]/raw_recipes_df[\"calories\"])*100)"
   ]
  },
  {
   "cell_type": "code",
   "execution_count": 23,
   "id": "9bc0c9cb",
   "metadata": {},
   "outputs": [
    {
     "data": {
      "application/vnd.jupyter.widget-view+json": {
       "model_id": "c40eac1fe4274322af78d3cef2a6f37e",
       "version_major": 2,
       "version_minor": 0
      },
      "text/plain": [
       "VBox()"
      ]
     },
     "metadata": {},
     "output_type": "display_data"
    },
    {
     "data": {
      "application/vnd.jupyter.widget-view+json": {
       "model_id": "",
       "version_major": 2,
       "version_minor": 0
      },
      "text/plain": [
       "FloatProgress(value=0.0, bar_style='info', description='Progress:', layout=Layout(height='25px', width='50%'),…"
      ]
     },
     "metadata": {},
     "output_type": "display_data"
    }
   ],
   "source": [
    "# Fill null value with 0\n",
    "for col_index, col_name in enumerate(nutrition_column):\n",
    "  raw_recipes_df = raw_recipes_df.na.fill(value=0,subset=[col_name])"
   ]
  },
  {
   "cell_type": "code",
   "execution_count": 24,
   "id": "5d090862",
   "metadata": {},
   "outputs": [
    {
     "data": {
      "application/vnd.jupyter.widget-view+json": {
       "model_id": "ed74848eb352435798021a698fc71a58",
       "version_major": 2,
       "version_minor": 0
      },
      "text/plain": [
       "VBox()"
      ]
     },
     "metadata": {},
     "output_type": "display_data"
    },
    {
     "data": {
      "application/vnd.jupyter.widget-view+json": {
       "model_id": "",
       "version_major": 2,
       "version_minor": 0
      },
      "text/plain": [
       "FloatProgress(value=0.0, bar_style='info', description='Progress:', layout=Layout(height='25px', width='50%'),…"
      ]
     },
     "metadata": {},
     "output_type": "display_data"
    },
    {
     "name": "stdout",
     "output_type": "stream",
     "text": [
      "+--------------------+------+-------+--------------+-------------------+--------------------+--------------------+-------+--------------------+--------------------+--------------------+-------------+--------+-------------+---------+----------+-----------+-----------------+-----------------+---------------------+------------------+------------------+-------------------+-------------------------+-------------------------+\n",
      "|                name|    id|minutes|contributor_id|          submitted|                tags|           nutrition|n_steps|               steps|         description|         ingredients|n_ingredients|calories|total_fat_PDV|sugar_PDV|sodium_PDV|protein_PDV|saturated_fat_PDV|carbohydrates_PDV|total_fat_per_100_cal| sugar_per_100_cal|sodium_per_100_cal|protein_per_100_cal|saturated_fat_per_100_cal|carbohydrates_per_100_cal|\n",
      "+--------------------+------+-------+--------------+-------------------+--------------------+--------------------+-------+--------------------+--------------------+--------------------+-------------+--------+-------------+---------+----------+-----------+-----------------+-----------------+---------------------+------------------+------------------+-------------------+-------------------------+-------------------------+\n",
      "|arriba   baked wi...|137739|     55|         47892|2005-09-16 00:00:00|['60-minutes-or-l...|51.5, 0.0, 13.0, ...|     11|['make a choice a...|autumn is my favo...|['winter squash',...|            7|    51.5|          0.0|     13.0|       0.0|        2.0|              0.0|              4.0|                  0.0| 25.24271844660194|               0.0| 3.8834951456310676|                      0.0|        7.766990291262135|\n",
      "|a bit different  ...| 31490|     30|         26278|2002-06-17 00:00:00|['30-minutes-or-l...|173.4, 18.0, 0.0,...|      9|['preheat oven to...|this recipe calls...|['prepared pizza ...|            6|   173.4|         18.0|      0.0|      17.0|       22.0|             35.0|              1.0|    10.38062320275834|               0.0|  9.80392191371621| 12.687428358926859|        20.18454511647455|       0.5767012890421299|\n",
      "|all in the kitche...|112140|    130|        196586|2005-02-25 00:00:00|['time-to-make', ...|269.8, 22.0, 32.0...|      6|['brown ground be...|this modified ver...|['ground beef', '...|           13|   269.8|         22.0|     32.0|      48.0|       39.0|             27.0|              5.0|    8.154188656554616|11.860638045897625| 17.79095706884644| 14.455152618437731|       10.007413351226122|       1.8532246946715039|\n",
      "|  alouette  potatoes| 59389|     45|         68585|2003-04-14 00:00:00|['60-minutes-or-l...|368.1, 17.0, 10.0...|     11|['place potatoes ...|this is a super e...|['spreadable chee...|           11|   368.1|         17.0|     10.0|       2.0|       14.0|              8.0|             20.0|    4.618310165205302|  2.71665303835606| 0.543330607671212| 3.8033142536984843|        2.173322430684848|         5.43330607671212|\n",
      "|amish  tomato ket...| 44061|    190|         41706|2002-10-25 00:00:00|['weeknight', 'ti...|352.9, 1.0, 337.0...|      5|['mix all ingredi...|my dh's amish mot...|['tomato juice', ...|            8|   352.9|          1.0|    337.0|      23.0|        3.0|              0.0|             28.0|   0.2833663976467306| 95.49447600694822| 6.517427145874804|  0.850099192940192|                      0.0|        7.934259134108457|\n",
      "+--------------------+------+-------+--------------+-------------------+--------------------+--------------------+-------+--------------------+--------------------+--------------------+-------------+--------+-------------+---------+----------+-----------+-----------------+-----------------+---------------------+------------------+------------------+-------------------+-------------------------+-------------------------+\n",
      "only showing top 5 rows"
     ]
    }
   ],
   "source": [
    "# Data after standardization\n",
    "raw_recipes_df.show(5)"
   ]
  },
  {
   "cell_type": "code",
   "execution_count": 25,
   "id": "750cb936",
   "metadata": {},
   "outputs": [
    {
     "data": {
      "application/vnd.jupyter.widget-view+json": {
       "model_id": "f638d123d0cf4e03a35c7ffaf6975e53",
       "version_major": 2,
       "version_minor": 0
      },
      "text/plain": [
       "VBox()"
      ]
     },
     "metadata": {},
     "output_type": "display_data"
    },
    {
     "data": {
      "application/vnd.jupyter.widget-view+json": {
       "model_id": "",
       "version_major": 2,
       "version_minor": 0
      },
      "text/plain": [
       "FloatProgress(value=0.0, bar_style='info', description='Progress:', layout=Layout(height='25px', width='50%'),…"
      ]
     },
     "metadata": {},
     "output_type": "display_data"
    }
   ],
   "source": [
    "# total fat check for id 28881\n",
    "assert raw_recipes_df.filter(\"id == 28881\").select('total_fat_per_100_cal').first()[0] == 0, \"total_fat_per_100_cal for recipe 28881 should be 0\"\n",
    "\n",
    "# total fat check for id 112140\n",
    "assert round(raw_recipes_df.filter(\"id == 112140\").select('total_fat_per_100_cal').first()[0]) == 8, \"total_fat_per_100_cal for recipe 112140 should be 8\"\n",
    "\n",
    "# checking for nulls\n",
    "for c in ['total_fat_per_100_cal','sugar_per_100_cal','sodium_per_100_cal','protein_per_100_cal',\n",
    "                          'saturated_fat_per_100_cal','carbohydrates_per_100_cal']:\n",
    "    assert raw_recipes_df.select(F.count(F.when(F.isnan(c) | F.col(c).isNull(), c)).alias(c)).collect()[0][0] == 0, \"There are Nulls in the data\""
   ]
  },
  {
   "cell_type": "markdown",
   "id": "575bc42e",
   "metadata": {},
   "source": [
    "# Task 04: Convert the tags column from a string to an array of strings"
   ]
  },
  {
   "cell_type": "code",
   "execution_count": 26,
   "id": "73bcaa66",
   "metadata": {},
   "outputs": [
    {
     "data": {
      "application/vnd.jupyter.widget-view+json": {
       "model_id": "2c263b907b9d47a0bf8670aab1d601d2",
       "version_major": 2,
       "version_minor": 0
      },
      "text/plain": [
       "VBox()"
      ]
     },
     "metadata": {},
     "output_type": "display_data"
    },
    {
     "data": {
      "application/vnd.jupyter.widget-view+json": {
       "model_id": "",
       "version_major": 2,
       "version_minor": 0
      },
      "text/plain": [
       "FloatProgress(value=0.0, bar_style='info', description='Progress:', layout=Layout(height='25px', width='50%'),…"
      ]
     },
     "metadata": {},
     "output_type": "display_data"
    },
    {
     "name": "stdout",
     "output_type": "stream",
     "text": [
      "StringType"
     ]
    }
   ],
   "source": [
    "# tags data type before splitting\n",
    "raw_recipes_df.schema[\"tags\"].dataType"
   ]
  },
  {
   "cell_type": "code",
   "execution_count": 27,
   "id": "74650fa2",
   "metadata": {},
   "outputs": [
    {
     "data": {
      "application/vnd.jupyter.widget-view+json": {
       "model_id": "f67d578542b24bdb9025082b7a94b649",
       "version_major": 2,
       "version_minor": 0
      },
      "text/plain": [
       "VBox()"
      ]
     },
     "metadata": {},
     "output_type": "display_data"
    },
    {
     "data": {
      "application/vnd.jupyter.widget-view+json": {
       "model_id": "",
       "version_major": 2,
       "version_minor": 0
      },
      "text/plain": [
       "FloatProgress(value=0.0, bar_style='info', description='Progress:', layout=Layout(height='25px', width='50%'),…"
      ]
     },
     "metadata": {},
     "output_type": "display_data"
    }
   ],
   "source": [
    "# Replacing squre and single quote from tags\n",
    "from pyspark.sql import functions as F\n",
    "raw_recipes_df = raw_recipes_df.withColumn(\"tags\", F.regexp_replace(F.regexp_replace(F.regexp_replace(\"tags\", \"\\\\[\", \"\"), \"\\\\]\",\"\"), \"\\\\'\",\"\"))"
   ]
  },
  {
   "cell_type": "code",
   "execution_count": 28,
   "id": "ca89002d",
   "metadata": {},
   "outputs": [
    {
     "data": {
      "application/vnd.jupyter.widget-view+json": {
       "model_id": "e6ef07de780e4200af5783b8e1f09b79",
       "version_major": 2,
       "version_minor": 0
      },
      "text/plain": [
       "VBox()"
      ]
     },
     "metadata": {},
     "output_type": "display_data"
    },
    {
     "data": {
      "application/vnd.jupyter.widget-view+json": {
       "model_id": "",
       "version_major": 2,
       "version_minor": 0
      },
      "text/plain": [
       "FloatProgress(value=0.0, bar_style='info', description='Progress:', layout=Layout(height='25px', width='50%'),…"
      ]
     },
     "metadata": {},
     "output_type": "display_data"
    },
    {
     "name": "stdout",
     "output_type": "stream",
     "text": [
      "+--------------------+------+-------+--------------+-------------------+--------------------+--------------------+-------+--------------------+--------------------+--------------------+-------------+--------+-------------+---------+----------+-----------+-----------------+-----------------+---------------------+------------------+------------------+-------------------+-------------------------+-------------------------+\n",
      "|                name|    id|minutes|contributor_id|          submitted|                tags|           nutrition|n_steps|               steps|         description|         ingredients|n_ingredients|calories|total_fat_PDV|sugar_PDV|sodium_PDV|protein_PDV|saturated_fat_PDV|carbohydrates_PDV|total_fat_per_100_cal| sugar_per_100_cal|sodium_per_100_cal|protein_per_100_cal|saturated_fat_per_100_cal|carbohydrates_per_100_cal|\n",
      "+--------------------+------+-------+--------------+-------------------+--------------------+--------------------+-------+--------------------+--------------------+--------------------+-------------+--------+-------------+---------+----------+-----------+-----------------+-----------------+---------------------+------------------+------------------+-------------------+-------------------------+-------------------------+\n",
      "|arriba   baked wi...|137739|     55|         47892|2005-09-16 00:00:00|[60-minutes-or-le...|51.5, 0.0, 13.0, ...|     11|['make a choice a...|autumn is my favo...|['winter squash',...|            7|    51.5|          0.0|     13.0|       0.0|        2.0|              0.0|              4.0|                  0.0| 25.24271844660194|               0.0| 3.8834951456310676|                      0.0|        7.766990291262135|\n",
      "|a bit different  ...| 31490|     30|         26278|2002-06-17 00:00:00|[30-minutes-or-le...|173.4, 18.0, 0.0,...|      9|['preheat oven to...|this recipe calls...|['prepared pizza ...|            6|   173.4|         18.0|      0.0|      17.0|       22.0|             35.0|              1.0|    10.38062320275834|               0.0|  9.80392191371621| 12.687428358926859|        20.18454511647455|       0.5767012890421299|\n",
      "|all in the kitche...|112140|    130|        196586|2005-02-25 00:00:00|[time-to-make, co...|269.8, 22.0, 32.0...|      6|['brown ground be...|this modified ver...|['ground beef', '...|           13|   269.8|         22.0|     32.0|      48.0|       39.0|             27.0|              5.0|    8.154188656554616|11.860638045897625| 17.79095706884644| 14.455152618437731|       10.007413351226122|       1.8532246946715039|\n",
      "|  alouette  potatoes| 59389|     45|         68585|2003-04-14 00:00:00|[60-minutes-or-le...|368.1, 17.0, 10.0...|     11|['place potatoes ...|this is a super e...|['spreadable chee...|           11|   368.1|         17.0|     10.0|       2.0|       14.0|              8.0|             20.0|    4.618310165205302|  2.71665303835606| 0.543330607671212| 3.8033142536984843|        2.173322430684848|         5.43330607671212|\n",
      "|amish  tomato ket...| 44061|    190|         41706|2002-10-25 00:00:00|[weeknight, time-...|352.9, 1.0, 337.0...|      5|['mix all ingredi...|my dh's amish mot...|['tomato juice', ...|            8|   352.9|          1.0|    337.0|      23.0|        3.0|              0.0|             28.0|   0.2833663976467306| 95.49447600694822| 6.517427145874804|  0.850099192940192|                      0.0|        7.934259134108457|\n",
      "+--------------------+------+-------+--------------+-------------------+--------------------+--------------------+-------+--------------------+--------------------+--------------------+-------------+--------+-------------+---------+----------+-----------+-----------------+-----------------+---------------------+------------------+------------------+-------------------+-------------------------+-------------------------+\n",
      "only showing top 5 rows"
     ]
    }
   ],
   "source": [
    "# Splitting tags into arry of strings\n",
    "raw_recipes_df = raw_recipes_df.withColumn(\"tags\", F.split(raw_recipes_df[\"tags\"], \", \"))\n",
    "raw_recipes_df.show(5)"
   ]
  },
  {
   "cell_type": "code",
   "execution_count": 29,
   "id": "7696d240",
   "metadata": {},
   "outputs": [
    {
     "data": {
      "application/vnd.jupyter.widget-view+json": {
       "model_id": "f13c4b04e8e24e8ba60d6a0e41dcd3d2",
       "version_major": 2,
       "version_minor": 0
      },
      "text/plain": [
       "VBox()"
      ]
     },
     "metadata": {},
     "output_type": "display_data"
    },
    {
     "data": {
      "application/vnd.jupyter.widget-view+json": {
       "model_id": "",
       "version_major": 2,
       "version_minor": 0
      },
      "text/plain": [
       "FloatProgress(value=0.0, bar_style='info', description='Progress:', layout=Layout(height='25px', width='50%'),…"
      ]
     },
     "metadata": {},
     "output_type": "display_data"
    },
    {
     "name": "stdout",
     "output_type": "stream",
     "text": [
      "ArrayType(StringType,true)"
     ]
    }
   ],
   "source": [
    "# Checking data type of tags after spliting\n",
    "raw_recipes_df.schema[\"tags\"].dataType"
   ]
  },
  {
   "cell_type": "code",
   "execution_count": 30,
   "id": "7a870290",
   "metadata": {},
   "outputs": [
    {
     "data": {
      "application/vnd.jupyter.widget-view+json": {
       "model_id": "5e7779c67ca540d6b8ff182cba902a7c",
       "version_major": 2,
       "version_minor": 0
      },
      "text/plain": [
       "VBox()"
      ]
     },
     "metadata": {},
     "output_type": "display_data"
    },
    {
     "data": {
      "application/vnd.jupyter.widget-view+json": {
       "model_id": "",
       "version_major": 2,
       "version_minor": 0
      },
      "text/plain": [
       "FloatProgress(value=0.0, bar_style='info', description='Progress:', layout=Layout(height='25px', width='50%'),…"
      ]
     },
     "metadata": {},
     "output_type": "display_data"
    }
   ],
   "source": [
    "assert raw_recipes_df.schema[\"tags\"].dataType == ArrayType(StringType(), True), \"You have not split the string into an array.\"\n",
    "assert raw_recipes_df.collect()[2][5] == ['time-to-make','course', 'preparation', 'main-dish', 'chili', 'crock-pot-slow-cooker', 'dietary', 'equipment', '4-hours-or-less'], \"Recheck your string cleaning and splitting operations.\""
   ]
  },
  {
   "cell_type": "markdown",
   "id": "cbcf8a7d",
   "metadata": {},
   "source": [
    "# Task 05: Read the second data file"
   ]
  },
  {
   "cell_type": "code",
   "execution_count": 31,
   "id": "c29ce10f",
   "metadata": {},
   "outputs": [
    {
     "data": {
      "application/vnd.jupyter.widget-view+json": {
       "model_id": "3d412ce8aaee43cfab570ab0dbfba75d",
       "version_major": 2,
       "version_minor": 0
      },
      "text/plain": [
       "VBox()"
      ]
     },
     "metadata": {},
     "output_type": "display_data"
    },
    {
     "data": {
      "application/vnd.jupyter.widget-view+json": {
       "model_id": "",
       "version_major": 2,
       "version_minor": 0
      },
      "text/plain": [
       "FloatProgress(value=0.0, bar_style='info', description='Progress:', layout=Layout(height='25px', width='50%'),…"
      ]
     },
     "metadata": {},
     "output_type": "display_data"
    },
    {
     "name": "stdout",
     "output_type": "stream",
     "text": [
      "+-------+---------+------+--------------------+-------------------+\n",
      "|user_id|recipe_id|rating|              review|        review_date|\n",
      "+-------+---------+------+--------------------+-------------------+\n",
      "|  38094|    40893|     4|Great with a sala...|2003-02-17 00:00:00|\n",
      "|1293707|    40893|     5|So simple  so del...|2011-12-21 00:00:00|\n",
      "|   8937|    44394|     4|This worked very ...|2002-12-01 00:00:00|\n",
      "| 126440|    85009|     5|I made the Mexica...|2010-02-27 00:00:00|\n",
      "|  57222|    85009|     5|Made the cheddar ...|2011-10-01 00:00:00|\n",
      "+-------+---------+------+--------------------+-------------------+\n",
      "only showing top 5 rows"
     ]
    }
   ],
   "source": [
    "# Read data as raw_ratings_df\n",
    "raw_ratings_df = (spark.read.csv(\"s3a://raw-interactions-upgrad/RAW_interactions_cleaned.csv\", inferSchema=True, header=True).withColumn(\"review_date\",  F.col(\"date\")).drop(F.col(\"date\")))\n",
    "raw_ratings_df.show(5)"
   ]
  },
  {
   "cell_type": "code",
   "execution_count": 32,
   "id": "dc8aff1f",
   "metadata": {},
   "outputs": [
    {
     "data": {
      "application/vnd.jupyter.widget-view+json": {
       "model_id": "d9833f8513b5497ea6688b18b160b4d6",
       "version_major": 2,
       "version_minor": 0
      },
      "text/plain": [
       "VBox()"
      ]
     },
     "metadata": {},
     "output_type": "display_data"
    },
    {
     "data": {
      "application/vnd.jupyter.widget-view+json": {
       "model_id": "",
       "version_major": 2,
       "version_minor": 0
      },
      "text/plain": [
       "FloatProgress(value=0.0, bar_style='info', description='Progress:', layout=Layout(height='25px', width='50%'),…"
      ]
     },
     "metadata": {},
     "output_type": "display_data"
    },
    {
     "name": "stdout",
     "output_type": "stream",
     "text": [
      "root\n",
      " |-- user_id: integer (nullable = true)\n",
      " |-- recipe_id: integer (nullable = true)\n",
      " |-- rating: integer (nullable = true)\n",
      " |-- review: string (nullable = true)\n",
      " |-- review_date: timestamp (nullable = true)"
     ]
    }
   ],
   "source": [
    "# Print schema of raw_ratings_df\n",
    "raw_ratings_df.printSchema()"
   ]
  },
  {
   "cell_type": "code",
   "execution_count": 33,
   "id": "0b7cbb51",
   "metadata": {},
   "outputs": [
    {
     "data": {
      "application/vnd.jupyter.widget-view+json": {
       "model_id": "e5abde59f28641de96c352e37cb50902",
       "version_major": 2,
       "version_minor": 0
      },
      "text/plain": [
       "VBox()"
      ]
     },
     "metadata": {},
     "output_type": "display_data"
    },
    {
     "data": {
      "application/vnd.jupyter.widget-view+json": {
       "model_id": "",
       "version_major": 2,
       "version_minor": 0
      },
      "text/plain": [
       "FloatProgress(value=0.0, bar_style='info', description='Progress:', layout=Layout(height='25px', width='50%'),…"
      ]
     },
     "metadata": {},
     "output_type": "display_data"
    },
    {
     "name": "stdout",
     "output_type": "stream",
     "text": [
      "+-------+-------------------+------------------+------------------+--------------------+\n",
      "|summary|            user_id|         recipe_id|            rating|              review|\n",
      "+-------+-------------------+------------------+------------------+--------------------+\n",
      "|  count|            1132367|           1132367|           1132367|             1132367|\n",
      "|   mean|1.384290674306519E8|160897.20816396098| 4.411016039852804|                20.0|\n",
      "| stddev|5.014268636837824E8|130398.71963876253|1.2647518406059142|  40.195356282370064|\n",
      "|    min|               1533|                38|                 0|\t\tThis is good  j...|\n",
      "|    max|         2002372706|            537716|                 5|���������������� ...|\n",
      "+-------+-------------------+------------------+------------------+--------------------+"
     ]
    }
   ],
   "source": [
    "# Describe raw_ratings_df data\n",
    "raw_ratings_df.describe().show()"
   ]
  },
  {
   "cell_type": "code",
   "execution_count": 34,
   "id": "8d6a3129",
   "metadata": {},
   "outputs": [
    {
     "data": {
      "application/vnd.jupyter.widget-view+json": {
       "model_id": "7ae9bd2b7c3e43d69a206fd3a34a8b63",
       "version_major": 2,
       "version_minor": 0
      },
      "text/plain": [
       "VBox()"
      ]
     },
     "metadata": {},
     "output_type": "display_data"
    },
    {
     "data": {
      "application/vnd.jupyter.widget-view+json": {
       "model_id": "",
       "version_major": 2,
       "version_minor": 0
      },
      "text/plain": [
       "FloatProgress(value=0.0, bar_style='info', description='Progress:', layout=Layout(height='25px', width='50%'),…"
      ]
     },
     "metadata": {},
     "output_type": "display_data"
    },
    {
     "name": "stdout",
     "output_type": "stream",
     "text": [
      "(1132367, 5)"
     ]
    }
   ],
   "source": [
    "# Count of rows and columns in raw_ratings_df\n",
    "raw_ratings_df.count(), len(raw_ratings_df.columns)"
   ]
  },
  {
   "cell_type": "code",
   "execution_count": 35,
   "id": "48cb5e88",
   "metadata": {},
   "outputs": [
    {
     "data": {
      "application/vnd.jupyter.widget-view+json": {
       "model_id": "6671441bce8b47d4a1bcf20d3a23af87",
       "version_major": 2,
       "version_minor": 0
      },
      "text/plain": [
       "VBox()"
      ]
     },
     "metadata": {},
     "output_type": "display_data"
    },
    {
     "data": {
      "application/vnd.jupyter.widget-view+json": {
       "model_id": "",
       "version_major": 2,
       "version_minor": 0
      },
      "text/plain": [
       "FloatProgress(value=0.0, bar_style='info', description='Progress:', layout=Layout(height='25px', width='50%'),…"
      ]
     },
     "metadata": {},
     "output_type": "display_data"
    },
    {
     "name": "stdout",
     "output_type": "stream",
     "text": [
      "(231637, 25)"
     ]
    }
   ],
   "source": [
    "# Count of rows and columns in raw_recipes_df\n",
    "raw_recipes_df.count(), len(raw_recipes_df.columns)"
   ]
  },
  {
   "cell_type": "code",
   "execution_count": 36,
   "id": "cb868628",
   "metadata": {},
   "outputs": [
    {
     "data": {
      "application/vnd.jupyter.widget-view+json": {
       "model_id": "2716a7fe6bc840b88db79531d19124c5",
       "version_major": 2,
       "version_minor": 0
      },
      "text/plain": [
       "VBox()"
      ]
     },
     "metadata": {},
     "output_type": "display_data"
    },
    {
     "data": {
      "application/vnd.jupyter.widget-view+json": {
       "model_id": "",
       "version_major": 2,
       "version_minor": 0
      },
      "text/plain": [
       "FloatProgress(value=0.0, bar_style='info', description='Progress:', layout=Layout(height='25px', width='50%'),…"
      ]
     },
     "metadata": {},
     "output_type": "display_data"
    },
    {
     "name": "stdout",
     "output_type": "stream",
     "text": [
      "+-------+---------+------+--------------------+-------------------+--------------------+---+-------+--------------+-------------------+--------------------+--------------------+-------+--------------------+--------------------+--------------------+-------------+--------+-------------+---------+----------+-----------+-----------------+-----------------+---------------------+-------------------+------------------+-------------------+-------------------------+-------------------------+\n",
      "|user_id|recipe_id|rating|              review|        review_date|                name| id|minutes|contributor_id|          submitted|                tags|           nutrition|n_steps|               steps|         description|         ingredients|n_ingredients|calories|total_fat_PDV|sugar_PDV|sodium_PDV|protein_PDV|saturated_fat_PDV|carbohydrates_PDV|total_fat_per_100_cal|  sugar_per_100_cal|sodium_per_100_cal|protein_per_100_cal|saturated_fat_per_100_cal|carbohydrates_per_100_cal|\n",
      "+-------+---------+------+--------------------+-------------------+--------------------+---+-------+--------------+-------------------+--------------------+--------------------+-------+--------------------+--------------------+--------------------+-------------+--------+-------------+---------+----------+-----------+-----------------+-----------------+---------------------+-------------------+------------------+-------------------+-------------------------+-------------------------+\n",
      "| 269153|       81|     5|This is FANTASTIC...|2006-03-09 00:00:00|all purpose quick...| 81|     40|        125579|1999-09-10 00:00:00|[60-minutes-or-le...|529.3, 37.0, 1.0,...|     36|['blend flours , ...|--adopted recipe-...|['whole wheat flo...|            5|   529.3|         37.0|      1.0|      36.0|       22.0|             73.0|             23.0|   6.9903647937494835|0.18892877820944548| 6.801436015540038|  4.156433120607801|        13.79180080928952|        4.345361898817247|\n",
      "| 985729|       81|     5|I have made sever...|2010-05-23 00:00:00|all purpose quick...| 81|     40|        125579|1999-09-10 00:00:00|[60-minutes-or-le...|529.3, 37.0, 1.0,...|     36|['blend flours , ...|--adopted recipe-...|['whole wheat flo...|            5|   529.3|         37.0|      1.0|      36.0|       22.0|             73.0|             23.0|   6.9903647937494835|0.18892877820944548| 6.801436015540038|  4.156433120607801|        13.79180080928952|        4.345361898817247|\n",
      "| 985823|      122|     5|Awesome is what c...|2010-05-25 00:00:00|commissary carrot...|122|    240|          1589|1999-09-09 00:00:00|[weeknight, time-...|1011.8, 103.0, 32...|     34|['in a heavy sauc...|best in the world...|['sugar', 'flour'...|           18|  1011.8|        103.0|    320.0|      16.0|       14.0|            141.0|             33.0|   10.179877568952445|  31.62680409771633|1.5813402048858167| 1.3836726792750895|        13.93556055555626|       3.2615141725769967|\n",
      "|1294602|      122|     5|I use this recipe...|2010-07-12 00:00:00|commissary carrot...|122|    240|          1589|1999-09-09 00:00:00|[weeknight, time-...|1011.8, 103.0, 32...|     34|['in a heavy sauc...|best in the world...|['sugar', 'flour'...|           18|  1011.8|        103.0|    320.0|      16.0|       14.0|            141.0|             33.0|   10.179877568952445|  31.62680409771633|1.5813402048858167| 1.3836726792750895|        13.93556055555626|       3.2615141725769967|\n",
      "| 851190|      126|     5|Dinner was extra ...|2010-05-25 00:00:00|carnation lean fe...|126|     40|          1556|1999-08-14 00:00:00|[60-minutes-or-le...|535.7, 24.0, 9.0,...|      9|['in a large pot ...|                    |['fettuccine', 'o...|           13|   535.7|         24.0|      9.0|      24.0|       57.0|             37.0|             23.0|    4.480119367763754| 1.6800447629114077| 4.480119367763754| 10.640283498438915|         6.90685069196912|        4.293447727440264|\n",
      "+-------+---------+------+--------------------+-------------------+--------------------+---+-------+--------------+-------------------+--------------------+--------------------+-------+--------------------+--------------------+--------------------+-------------+--------+-------------+---------+----------+-----------+-----------------+-----------------+---------------------+-------------------+------------------+-------------------+-------------------------+-------------------------+\n",
      "only showing top 5 rows"
     ]
    }
   ],
   "source": [
    "# Joining two data sets\n",
    "interaction_level_df = raw_ratings_df.join(raw_recipes_df, raw_ratings_df.recipe_id==raw_recipes_df.id, how=\"inner\")\n",
    "interaction_level_df.show(5)"
   ]
  },
  {
   "cell_type": "code",
   "execution_count": 37,
   "id": "87afe8dc",
   "metadata": {},
   "outputs": [
    {
     "data": {
      "application/vnd.jupyter.widget-view+json": {
       "model_id": "f4092d70a1e04fd5a6703587d6f7601f",
       "version_major": 2,
       "version_minor": 0
      },
      "text/plain": [
       "VBox()"
      ]
     },
     "metadata": {},
     "output_type": "display_data"
    },
    {
     "data": {
      "application/vnd.jupyter.widget-view+json": {
       "model_id": "",
       "version_major": 2,
       "version_minor": 0
      },
      "text/plain": [
       "FloatProgress(value=0.0, bar_style='info', description='Progress:', layout=Layout(height='25px', width='50%'),…"
      ]
     },
     "metadata": {},
     "output_type": "display_data"
    },
    {
     "name": "stdout",
     "output_type": "stream",
     "text": [
      "(1132367, 30)"
     ]
    }
   ],
   "source": [
    "# Count of rows and columns of interaction_level_df\n",
    "interaction_level_df.count(), len(interaction_level_df.columns)"
   ]
  },
  {
   "cell_type": "code",
   "execution_count": 38,
   "id": "850b37c6",
   "metadata": {},
   "outputs": [
    {
     "data": {
      "application/vnd.jupyter.widget-view+json": {
       "model_id": "eb19f790402145848884b2178267d1d0",
       "version_major": 2,
       "version_minor": 0
      },
      "text/plain": [
       "VBox()"
      ]
     },
     "metadata": {},
     "output_type": "display_data"
    },
    {
     "data": {
      "application/vnd.jupyter.widget-view+json": {
       "model_id": "",
       "version_major": 2,
       "version_minor": 0
      },
      "text/plain": [
       "FloatProgress(value=0.0, bar_style='info', description='Progress:', layout=Layout(height='25px', width='50%'),…"
      ]
     },
     "metadata": {},
     "output_type": "display_data"
    }
   ],
   "source": [
    "assert (interaction_level_df.count() ,len(interaction_level_df.columns)) == (1132367, 30), \"The type of join is incorrect\"\n",
    "\n",
    "list1 = raw_ratings_df.select('recipe_id').collect()\n",
    "list2 = raw_recipes_df.select('id').collect()\n",
    "exclusive_set = set(list1)-set(list2)\n",
    "\n",
    "assert len(exclusive_set) == 0, \"There is a mistake in reading one of the two data files.\""
   ]
  },
  {
   "cell_type": "markdown",
   "id": "3c8ca2e4",
   "metadata": {},
   "source": [
    "# Task 06: Create time-based features"
   ]
  },
  {
   "cell_type": "code",
   "execution_count": 39,
   "id": "fb408fba",
   "metadata": {},
   "outputs": [
    {
     "data": {
      "application/vnd.jupyter.widget-view+json": {
       "model_id": "8e05aa736b5d44438e6bead5b86b63a1",
       "version_major": 2,
       "version_minor": 0
      },
      "text/plain": [
       "VBox()"
      ]
     },
     "metadata": {},
     "output_type": "display_data"
    },
    {
     "data": {
      "application/vnd.jupyter.widget-view+json": {
       "model_id": "",
       "version_major": 2,
       "version_minor": 0
      },
      "text/plain": [
       "FloatProgress(value=0.0, bar_style='info', description='Progress:', layout=Layout(height='25px', width='50%'),…"
      ]
     },
     "metadata": {},
     "output_type": "display_data"
    },
    {
     "name": "stdout",
     "output_type": "stream",
     "text": [
      "(TimestampType, TimestampType)"
     ]
    }
   ],
   "source": [
    "# Data type of date columns\n",
    "interaction_level_df.schema[\"review_date\"].dataType, interaction_level_df.schema[\"submitted\"].dataType"
   ]
  },
  {
   "cell_type": "code",
   "execution_count": 40,
   "id": "046b3493",
   "metadata": {},
   "outputs": [
    {
     "data": {
      "application/vnd.jupyter.widget-view+json": {
       "model_id": "52bf549257d44bbcb22235bdcb7502d6",
       "version_major": 2,
       "version_minor": 0
      },
      "text/plain": [
       "VBox()"
      ]
     },
     "metadata": {},
     "output_type": "display_data"
    },
    {
     "data": {
      "application/vnd.jupyter.widget-view+json": {
       "model_id": "",
       "version_major": 2,
       "version_minor": 0
      },
      "text/plain": [
       "FloatProgress(value=0.0, bar_style='info', description='Progress:', layout=Layout(height='25px', width='50%'),…"
      ]
     },
     "metadata": {},
     "output_type": "display_data"
    }
   ],
   "source": [
    "# Extracting number of days, months and years\n",
    "interaction_level_df = (interaction_level_df.withColumn(\"days_since_submission_on_review_date\", F.datediff(F.col(\"review_date\"),F.col(\"submitted\")))\n",
    "                                            .withColumn(\"months_since_submission_on_review_date\", F.months_between(F.col(\"review_date\"),F.col(\"submitted\")))\n",
    "                                            .withColumn(\"years_since_submission_on_review_date\", (F.months_between(F.col(\"review_date\"),F.col(\"submitted\"))/12)))"
   ]
  },
  {
   "cell_type": "code",
   "execution_count": 41,
   "id": "92cc930f",
   "metadata": {},
   "outputs": [
    {
     "data": {
      "application/vnd.jupyter.widget-view+json": {
       "model_id": "1e10bf6765204848b2f2bba5403548bb",
       "version_major": 2,
       "version_minor": 0
      },
      "text/plain": [
       "VBox()"
      ]
     },
     "metadata": {},
     "output_type": "display_data"
    },
    {
     "data": {
      "application/vnd.jupyter.widget-view+json": {
       "model_id": "",
       "version_major": 2,
       "version_minor": 0
      },
      "text/plain": [
       "FloatProgress(value=0.0, bar_style='info', description='Progress:', layout=Layout(height='25px', width='50%'),…"
      ]
     },
     "metadata": {},
     "output_type": "display_data"
    },
    {
     "name": "stdout",
     "output_type": "stream",
     "text": [
      "33"
     ]
    }
   ],
   "source": [
    "# Checking column count after days, month and year\n",
    "len(interaction_level_df.columns)"
   ]
  },
  {
   "cell_type": "code",
   "execution_count": 42,
   "id": "21cc2487",
   "metadata": {},
   "outputs": [
    {
     "data": {
      "application/vnd.jupyter.widget-view+json": {
       "model_id": "d85457b999414e2787db24ea0e9ea238",
       "version_major": 2,
       "version_minor": 0
      },
      "text/plain": [
       "VBox()"
      ]
     },
     "metadata": {},
     "output_type": "display_data"
    },
    {
     "data": {
      "application/vnd.jupyter.widget-view+json": {
       "model_id": "",
       "version_major": 2,
       "version_minor": 0
      },
      "text/plain": [
       "FloatProgress(value=0.0, bar_style='info', description='Progress:', layout=Layout(height='25px', width='50%'),…"
      ]
     },
     "metadata": {},
     "output_type": "display_data"
    },
    {
     "name": "stdout",
     "output_type": "stream",
     "text": [
      "+-------+---------+------+--------------------+-------------------+--------------------+---+-------+--------------+-------------------+--------------------+--------------------+-------+--------------------+--------------------+--------------------+-------------+--------+-------------+---------+----------+-----------+-----------------+-----------------+---------------------+-------------------+------------------+-------------------+-------------------------+-------------------------+------------------------------------+--------------------------------------+-------------------------------------+\n",
      "|user_id|recipe_id|rating|              review|        review_date|                name| id|minutes|contributor_id|          submitted|                tags|           nutrition|n_steps|               steps|         description|         ingredients|n_ingredients|calories|total_fat_PDV|sugar_PDV|sodium_PDV|protein_PDV|saturated_fat_PDV|carbohydrates_PDV|total_fat_per_100_cal|  sugar_per_100_cal|sodium_per_100_cal|protein_per_100_cal|saturated_fat_per_100_cal|carbohydrates_per_100_cal|days_since_submission_on_review_date|months_since_submission_on_review_date|years_since_submission_on_review_date|\n",
      "+-------+---------+------+--------------------+-------------------+--------------------+---+-------+--------------+-------------------+--------------------+--------------------+-------+--------------------+--------------------+--------------------+-------------+--------+-------------+---------+----------+-----------+-----------------+-----------------+---------------------+-------------------+------------------+-------------------+-------------------------+-------------------------+------------------------------------+--------------------------------------+-------------------------------------+\n",
      "| 269153|       81|     5|This is FANTASTIC...|2006-03-09 00:00:00|all purpose quick...| 81|     40|        125579|1999-09-10 00:00:00|[60-minutes-or-le...|529.3, 37.0, 1.0,...|     36|['blend flours , ...|--adopted recipe-...|['whole wheat flo...|            5|   529.3|         37.0|      1.0|      36.0|       22.0|             73.0|             23.0|   6.9903647937494835|0.18892877820944548| 6.801436015540038|  4.156433120607801|        13.79180080928952|        4.345361898817247|                                2372|                           77.96774194|                    6.497311828333333|\n",
      "| 985729|       81|     5|I have made sever...|2010-05-23 00:00:00|all purpose quick...| 81|     40|        125579|1999-09-10 00:00:00|[60-minutes-or-le...|529.3, 37.0, 1.0,...|     36|['blend flours , ...|--adopted recipe-...|['whole wheat flo...|            5|   529.3|         37.0|      1.0|      36.0|       22.0|             73.0|             23.0|   6.9903647937494835|0.18892877820944548| 6.801436015540038|  4.156433120607801|        13.79180080928952|        4.345361898817247|                                3908|                          128.41935484|                   10.701612903333334|\n",
      "| 985823|      122|     5|Awesome is what c...|2010-05-25 00:00:00|commissary carrot...|122|    240|          1589|1999-09-09 00:00:00|[weeknight, time-...|1011.8, 103.0, 32...|     34|['in a heavy sauc...|best in the world...|['sugar', 'flour'...|           18|  1011.8|        103.0|    320.0|      16.0|       14.0|            141.0|             33.0|   10.179877568952445|  31.62680409771633|1.5813402048858167| 1.3836726792750895|        13.93556055555626|       3.2615141725769967|                                3911|                          128.51612903|                   10.709677419166667|\n",
      "|1294602|      122|     5|I use this recipe...|2010-07-12 00:00:00|commissary carrot...|122|    240|          1589|1999-09-09 00:00:00|[weeknight, time-...|1011.8, 103.0, 32...|     34|['in a heavy sauc...|best in the world...|['sugar', 'flour'...|           18|  1011.8|        103.0|    320.0|      16.0|       14.0|            141.0|             33.0|   10.179877568952445|  31.62680409771633|1.5813402048858167| 1.3836726792750895|        13.93556055555626|       3.2615141725769967|                                3959|                          130.09677419|                   10.841397849166666|\n",
      "| 851190|      126|     5|Dinner was extra ...|2010-05-25 00:00:00|carnation lean fe...|126|     40|          1556|1999-08-14 00:00:00|[60-minutes-or-le...|535.7, 24.0, 9.0,...|      9|['in a large pot ...|                    |['fettuccine', 'o...|           13|   535.7|         24.0|      9.0|      24.0|       57.0|             37.0|             23.0|    4.480119367763754| 1.6800447629114077| 4.480119367763754| 10.640283498438915|         6.90685069196912|        4.293447727440264|                                3937|                          129.35483871|                        10.7795698925|\n",
      "+-------+---------+------+--------------------+-------------------+--------------------+---+-------+--------------+-------------------+--------------------+--------------------+-------+--------------------+--------------------+--------------------+-------------+--------+-------------+---------+----------+-----------+-----------------+-----------------+---------------------+-------------------+------------------+-------------------+-------------------------+-------------------------+------------------------------------+--------------------------------------+-------------------------------------+\n",
      "only showing top 5 rows"
     ]
    }
   ],
   "source": [
    "interaction_level_df.show(5)"
   ]
  },
  {
   "cell_type": "code",
   "execution_count": 43,
   "id": "734e8070",
   "metadata": {},
   "outputs": [
    {
     "data": {
      "application/vnd.jupyter.widget-view+json": {
       "model_id": "293edf0e581e4cb6a97914aad24149d1",
       "version_major": 2,
       "version_minor": 0
      },
      "text/plain": [
       "VBox()"
      ]
     },
     "metadata": {},
     "output_type": "display_data"
    },
    {
     "data": {
      "application/vnd.jupyter.widget-view+json": {
       "model_id": "",
       "version_major": 2,
       "version_minor": 0
      },
      "text/plain": [
       "FloatProgress(value=0.0, bar_style='info', description='Progress:', layout=Layout(height='25px', width='50%'),…"
      ]
     },
     "metadata": {},
     "output_type": "display_data"
    },
    {
     "name": "stdout",
     "output_type": "stream",
     "text": [
      "(IntegerType, DoubleType, DoubleType)"
     ]
    }
   ],
   "source": [
    "# Checking data type of days, month and year columns\n",
    "(interaction_level_df.schema[\"days_since_submission_on_review_date\"].dataType, \n",
    "interaction_level_df.schema[\"months_since_submission_on_review_date\"].dataType, \n",
    "interaction_level_df.schema[\"years_since_submission_on_review_date\"].dataType)"
   ]
  },
  {
   "cell_type": "code",
   "execution_count": 44,
   "id": "b80543dd",
   "metadata": {},
   "outputs": [
    {
     "data": {
      "application/vnd.jupyter.widget-view+json": {
       "model_id": "e8d0e21e75764ed2a8c847f9337d6723",
       "version_major": 2,
       "version_minor": 0
      },
      "text/plain": [
       "VBox()"
      ]
     },
     "metadata": {},
     "output_type": "display_data"
    },
    {
     "data": {
      "application/vnd.jupyter.widget-view+json": {
       "model_id": "",
       "version_major": 2,
       "version_minor": 0
      },
      "text/plain": [
       "FloatProgress(value=0.0, bar_style='info', description='Progress:', layout=Layout(height='25px', width='50%'),…"
      ]
     },
     "metadata": {},
     "output_type": "display_data"
    }
   ],
   "source": [
    "assert interaction_level_df.schema[\"days_since_submission_on_review_date\"].dataType == IntegerType(), \"Data type incorrect\"\n",
    "\n",
    "assert (interaction_level_df.filter((interaction_level_df.user_id == 428885) & (interaction_level_df.recipe_id == 335241))\n",
    "                            .select('days_since_submission_on_review_date').collect()[0][0]) == 77, \"Day problem\"\n",
    "assert (interaction_level_df.filter((interaction_level_df.user_id == 2025676) & (interaction_level_df.recipe_id == 94265))\n",
    "                            .select('months_since_submission_on_review_date').collect()[0][0]) == 153.22580645, \"Month problem\"\n",
    "assert (interaction_level_df.filter((interaction_level_df.user_id == 338588) & (interaction_level_df.recipe_id == 21859))\n",
    "                            .select('years_since_submission_on_review_date').collect()[0][0]) == 4.564516129166667, \"Year problem\""
   ]
  },
  {
   "cell_type": "code",
   "execution_count": 45,
   "id": "f22704df",
   "metadata": {},
   "outputs": [
    {
     "data": {
      "application/vnd.jupyter.widget-view+json": {
       "model_id": "10b6e80416c24ced8f3eaa85555e4b30",
       "version_major": 2,
       "version_minor": 0
      },
      "text/plain": [
       "VBox()"
      ]
     },
     "metadata": {},
     "output_type": "display_data"
    },
    {
     "data": {
      "application/vnd.jupyter.widget-view+json": {
       "model_id": "",
       "version_major": 2,
       "version_minor": 0
      },
      "text/plain": [
       "FloatProgress(value=0.0, bar_style='info', description='Progress:', layout=Layout(height='25px', width='50%'),…"
      ]
     },
     "metadata": {},
     "output_type": "display_data"
    },
    {
     "name": "stdout",
     "output_type": "stream",
     "text": [
      "root\n",
      " |-- user_id: integer (nullable = true)\n",
      " |-- recipe_id: integer (nullable = true)\n",
      " |-- rating: integer (nullable = true)\n",
      " |-- review: string (nullable = true)\n",
      " |-- review_date: timestamp (nullable = true)\n",
      " |-- name: string (nullable = true)\n",
      " |-- id: integer (nullable = true)\n",
      " |-- minutes: integer (nullable = true)\n",
      " |-- contributor_id: integer (nullable = true)\n",
      " |-- submitted: timestamp (nullable = true)\n",
      " |-- tags: array (nullable = true)\n",
      " |    |-- element: string (containsNull = true)\n",
      " |-- nutrition: string (nullable = true)\n",
      " |-- n_steps: integer (nullable = true)\n",
      " |-- steps: string (nullable = true)\n",
      " |-- description: string (nullable = true)\n",
      " |-- ingredients: string (nullable = true)\n",
      " |-- n_ingredients: integer (nullable = true)\n",
      " |-- calories: float (nullable = true)\n",
      " |-- total_fat_PDV: float (nullable = true)\n",
      " |-- sugar_PDV: float (nullable = true)\n",
      " |-- sodium_PDV: float (nullable = true)\n",
      " |-- protein_PDV: float (nullable = true)\n",
      " |-- saturated_fat_PDV: float (nullable = true)\n",
      " |-- carbohydrates_PDV: float (nullable = true)\n",
      " |-- total_fat_per_100_cal: double (nullable = false)\n",
      " |-- sugar_per_100_cal: double (nullable = false)\n",
      " |-- sodium_per_100_cal: double (nullable = false)\n",
      " |-- protein_per_100_cal: double (nullable = false)\n",
      " |-- saturated_fat_per_100_cal: double (nullable = false)\n",
      " |-- carbohydrates_per_100_cal: double (nullable = false)\n",
      " |-- days_since_submission_on_review_date: integer (nullable = true)\n",
      " |-- months_since_submission_on_review_date: double (nullable = true)\n",
      " |-- years_since_submission_on_review_date: double (nullable = true)"
     ]
    }
   ],
   "source": [
    "# Print schema of interaction_level_df data\n",
    "interaction_level_df.printSchema()"
   ]
  },
  {
   "cell_type": "code",
   "execution_count": 46,
   "id": "7246fd58",
   "metadata": {},
   "outputs": [
    {
     "data": {
      "application/vnd.jupyter.widget-view+json": {
       "model_id": "9a3e2deb6f3c4e73920ba9d650a36b1d",
       "version_major": 2,
       "version_minor": 0
      },
      "text/plain": [
       "VBox()"
      ]
     },
     "metadata": {},
     "output_type": "display_data"
    },
    {
     "data": {
      "application/vnd.jupyter.widget-view+json": {
       "model_id": "",
       "version_major": 2,
       "version_minor": 0
      },
      "text/plain": [
       "FloatProgress(value=0.0, bar_style='info', description='Progress:', layout=Layout(height='25px', width='50%'),…"
      ]
     },
     "metadata": {},
     "output_type": "display_data"
    },
    {
     "name": "stdout",
     "output_type": "stream",
     "text": [
      "(1132367, 33)"
     ]
    }
   ],
   "source": [
    "# Count of rows and columns of interaction_level_df data\n",
    "interaction_level_df.count() ,len(interaction_level_df.columns)"
   ]
  },
  {
   "cell_type": "code",
   "execution_count": 47,
   "id": "2bdd81fe",
   "metadata": {},
   "outputs": [
    {
     "data": {
      "application/vnd.jupyter.widget-view+json": {
       "model_id": "55960e9184374d0ba83f2ccdba898799",
       "version_major": 2,
       "version_minor": 0
      },
      "text/plain": [
       "VBox()"
      ]
     },
     "metadata": {},
     "output_type": "display_data"
    },
    {
     "data": {
      "application/vnd.jupyter.widget-view+json": {
       "model_id": "",
       "version_major": 2,
       "version_minor": 0
      },
      "text/plain": [
       "FloatProgress(value=0.0, bar_style='info', description='Progress:', layout=Layout(height='25px', width='50%'),…"
      ]
     },
     "metadata": {},
     "output_type": "display_data"
    }
   ],
   "source": [
    "# Write the interaction_level_df\n",
    "(interaction_level_df.write\n",
    "                    .mode('overwrite')\n",
    "                    .parquet('s3://newbucketbeforeproject/food-recommendation-folder/pre_eda.parquet'))"
   ]
  },
  {
   "cell_type": "code",
   "execution_count": null,
   "id": "133cad9e",
   "metadata": {},
   "outputs": [],
   "source": []
  },
  {
   "cell_type": "code",
   "execution_count": null,
   "id": "42951b0b",
   "metadata": {},
   "outputs": [],
   "source": []
  }
 ],
 "metadata": {
  "kernelspec": {
   "display_name": "PySpark",
   "language": "",
   "name": "pysparkkernel"
  },
  "language_info": {
   "codemirror_mode": {
    "name": "python",
    "version": 2
   },
   "mimetype": "text/x-python",
   "name": "pyspark",
   "pygments_lexer": "python2"
  }
 },
 "nbformat": 4,
 "nbformat_minor": 5
}
